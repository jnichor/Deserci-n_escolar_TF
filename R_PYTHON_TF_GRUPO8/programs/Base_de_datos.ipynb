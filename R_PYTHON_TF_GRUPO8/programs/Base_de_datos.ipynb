{
  "cells": [
    {
      "cell_type": "markdown",
      "metadata": {},
      "source": [
        "# **Pre procesamiento de la base de datos**: creación de las variables de interés"
      ]
    },
    {
      "cell_type": "code",
      "execution_count": 1,
      "metadata": {
        "id": "jtQQOm9BnWuu"
      },
      "outputs": [],
      "source": [
        "import pandas as pd\n",
        "import numpy as np\n",
        "from sklearn.preprocessing import LabelEncoder\n"
      ]
    },
    {
      "cell_type": "code",
      "execution_count": 2,
      "metadata": {},
      "outputs": [
        {
          "name": "stderr",
          "output_type": "stream",
          "text": [
            "C:\\Users\\User\\AppData\\Local\\Temp\\ipykernel_30724\\1480248929.py:1: DtypeWarning: Columns (12,13,26,32,59,346,510) have mixed types. Specify dtype option on import or set low_memory=False.\n",
            "  educ = pd.read_csv(\"../data/raw/Enaho01a-2021-300.csv\", encoding=\"iso-8859-1\")\n"
          ]
        }
      ],
      "source": [
        "educ = pd.read_csv(\"../data/raw/Enaho01a-2021-300.csv\", encoding=\"iso-8859-1\")\n"
      ]
    },
    {
      "cell_type": "code",
      "execution_count": 3,
      "metadata": {},
      "outputs": [],
      "source": [
        "r= educ[['P304A','P308A'] ]"
      ]
    },
    {
      "cell_type": "markdown",
      "metadata": {},
      "source": [
        "**Creacion de la variable dummy dependiente: Deserción Escolar**"
      ]
    },
    {
      "cell_type": "code",
      "execution_count": 4,
      "metadata": {},
      "outputs": [],
      "source": [
        "\n",
        "\n",
        "# * DESERCION ESCOLAR\n",
        "#  nos quedamos con los de la Educación Básica Regular\n",
        "educ = educ[(educ['P304A'] >= '1') & (educ['P304A'] <= '3')]\n",
        "#P304B representa el año en el que estaba matriculado la persona el año pasado (2020). 1,2,3,4,5 son los años de secundaria. 1,2,3 son los años de educación inicial. 0 son los de Primaria porque ellos están representados en \"grados\" y no en años\n",
        "educ = educ[(educ['P304B'] >= '0') & (educ['P304B'] <= '5')]\n",
        "#se elimina a los que estuvieron el año pasado en quinto de secundaria y que aprobaron el año\n",
        "educ = educ.drop(educ[(educ['P304B'] == 5) & (educ['P305'] == 1)].index)\n",
        "#se elimina a los que tienen 4 años en la actualidad (2021) porque no se tenia registro si estuvieron matriculados el año pasado\n",
        "educ = educ[educ['P208A'] != 4]\n",
        "educ['P308A'] = pd.to_numeric(educ['P308A'], errors='coerce')\n",
        "#creacion de Deserción escolar para las personas que estuvieron matriculados el año pasado. 1= para las personas que estuvieron matriculados el año pasado y que actualmente ya no lo están. 0= caso contrario\n",
        "educ['DESERCION_ESCOLAR'] = (pd.notna(educ['P304A']) & pd.isna(educ['P308A'])).astype('int')\n",
        "\n",
        "\n"
      ]
    },
    {
      "cell_type": "code",
      "execution_count": 5,
      "metadata": {},
      "outputs": [],
      "source": [
        "\n",
        "# * sexo (1= Hombre, 0 = Mujer)\n",
        "educ['SEXO'] = 0  \n",
        "educ.loc[educ['P207'] == 1, 'SEXO'] = 1\n",
        "\n",
        "\n",
        "# * Edad\n",
        "educ.rename(columns={'P208A': 'EDAD'}, inplace=True)\n",
        "\n",
        "\n",
        "# * Area Geográfica (1=Urbano, 0= Rural)\n",
        "educ['AREA_GEOGRAFICA'] = 1\n",
        "educ.loc[(educ['ESTRATO'] >= 6) & (educ['ESTRATO'] <= 8), 'AREA_GEOGRAFICA'] = 0\n",
        "\n",
        "\n",
        "#* Lengua Materna (1=Castellano, 0=Lengua Nativa)\n",
        "educ['LENGUA_MATERNA'] = np.nan  \n",
        "educ.loc[educ['P300A'] == 4, 'LENGUA_MATERNA'] = 1\n",
        "educ.loc[educ['P300A'].isin([1, 2, 3, 10, 11, 12, 13, 14, 15]), 'LENGUA_MATERNA'] = 0\n",
        "educ = educ.dropna(subset=['LENGUA_MATERNA'])\n",
        "\n",
        "\n",
        "#*Tipo de Colegio (1=Colegio Público, 0=Colegio Privado)\n",
        "label_encoder = LabelEncoder()\n",
        "educ['P308D'] = label_encoder.fit_transform(educ['P308D'])\n",
        "educ['TIPO_DE_COLEGIO'] = 0   \n",
        "educ.loc[educ['P308D'] != 2 , 'TIPO_DE_COLEGIO'] = 1\n",
        "\n",
        "#* Programas sociales (1=si recibio recursos de algún programa social, 0=caso contrario)\n",
        "label_encoder = LabelEncoder()\n",
        "educ['P311A6$4'] = label_encoder.fit_transform(educ['P311A6$4'])\n",
        "educ['P311A6$8'] = label_encoder.fit_transform(educ['P311A6$8'])\n",
        "educ['P311A6$9'] = label_encoder.fit_transform(educ['P311A6$9'])\n",
        "\n",
        "# Creamos una variable dummy 'programa_utiles' \n",
        "educ['programa_utiles'] = 0  \n",
        "educ.loc[educ['P311A6$4'] == 2, 'programa_utiles'] = 1\n",
        "\n",
        "educ['programa_utiles'].value_counts()\n",
        "# Crear la columna 'programa' basada en las condiciones dadas\n",
        "educ['PROGRAMA'] = (educ['P311A6$8'] | educ['P311A6$9']| educ['programa_utiles']).astype(int)\n",
        "\n",
        "\n",
        "\n",
        "variables = ['AÑO', 'CONGLOME', 'VIVIENDA', 'HOGAR', 'CODPERSO', 'UBIGEO','DESERCION_ESCOLAR', \n",
        "             'SEXO', 'EDAD', 'AREA_GEOGRAFICA', 'LENGUA_MATERNA', 'TIPO_DE_COLEGIO', 'PROGRAMA'\n",
        "               ]\n",
        "data = educ[variables]"
      ]
    },
    {
      "cell_type": "code",
      "execution_count": 6,
      "metadata": {},
      "outputs": [
        {
          "name": "stderr",
          "output_type": "stream",
          "text": [
            "C:\\Users\\User\\AppData\\Local\\Temp\\ipykernel_30724\\1594343561.py:2: DtypeWarning: Columns (323) have mixed types. Specify dtype option on import or set low_memory=False.\n",
            "  hogar = pd.read_csv(\"../data/raw/Enaho01-2021-100.csv\", encoding=\"iso-8859-1\")\n",
            "C:\\Users\\User\\AppData\\Local\\Temp\\ipykernel_30724\\1594343561.py:3: DtypeWarning: Columns (10,50,51,52,96) have mixed types. Specify dtype option on import or set low_memory=False.\n",
            "  gob = pd.read_csv(\"../data/raw/Enaho01B-2021-2.csv\", encoding=\"iso-8859-1\")\n",
            "C:\\Users\\User\\AppData\\Local\\Temp\\ipykernel_30724\\1594343561.py:4: DtypeWarning: Columns (229,234,239,247,252,257,262,267,272,277,282,287,292,297,302,307,312,317,322,327,332,337,342,347,354,358,362,366,370,431,434,437,440,443,446,449,452,457,459,461,463,465,467,469,473,474,475,476,477,481,573,574,575,576,1023,1024,1025,1026,1027,1028,1029,1030,1031,1032,1103,1106,1111,1456) have mixed types. Specify dtype option on import or set low_memory=False.\n",
            "  empleo = pd.read_csv(\"../data/raw/Enaho01a-2021-500.csv\", encoding=\"iso-8859-1\")\n",
            "C:\\Users\\User\\AppData\\Local\\Temp\\ipykernel_30724\\1594343561.py:5: DtypeWarning: Columns (12,13,14,15,32,34,35,36,37,38,39,40,41,42,43,44,45,46,47,48,79,81,123,125,132,133,134,135,136,137,138,139,140,141,142,143,144,145,146,147,148,149,150,151,152,153,154,155,156,157,158,159,160,161,162,163,164,165,574,575,576,577,578,579,580,581,590,594,981) have mixed types. Specify dtype option on import or set low_memory=False.\n",
            "  salud = pd.read_csv(\"../data/raw/Enaho01a-2021-400.csv\", encoding=\"iso-8859-1\")\n"
          ]
        }
      ],
      "source": [
        "sumaria = pd.read_csv(\"../data/raw/Sumaria-2021.csv\", encoding=\"iso-8859-1\")\n",
        "hogar = pd.read_csv(\"../data/raw/Enaho01-2021-100.csv\", encoding=\"iso-8859-1\")\n",
        "gob = pd.read_csv(\"../data/raw/Enaho01B-2021-2.csv\", encoding=\"iso-8859-1\")\n",
        "empleo = pd.read_csv(\"../data/raw/Enaho01a-2021-500.csv\", encoding=\"iso-8859-1\")\n",
        "salud = pd.read_csv(\"../data/raw/Enaho01a-2021-400.csv\", encoding=\"iso-8859-1\")\n"
      ]
    },
    {
      "cell_type": "code",
      "execution_count": 7,
      "metadata": {},
      "outputs": [],
      "source": [
        "\n",
        "#* SITUACION LABORAL (1= si trabaja , 0 = caso contrario)\n",
        "empleo = empleo[empleo['OCU500'] != 0]\n",
        "empleo['SITUACION_LABORAL'] = 0  \n",
        "empleo.loc[empleo['OCU500'] == 1, 'SITUACION_LABORAL'] = 1\n",
        "\n",
        "variables = ['AÑO', 'CONGLOME', 'VIVIENDA', 'HOGAR', 'CODPERSO', 'UBIGEO', 'SITUACION_LABORAL']\n",
        "empleo = empleo[variables]\n",
        "\n",
        "data = data.merge(empleo, how='left', on=['AÑO', 'CONGLOME', 'VIVIENDA',  'HOGAR', 'CODPERSO', 'UBIGEO'])\n",
        "data['SITUACION_LABORAL'] = data['SITUACION_LABORAL'].fillna(0)"
      ]
    },
    {
      "cell_type": "code",
      "execution_count": 8,
      "metadata": {},
      "outputs": [],
      "source": [
        "# Codificamos la variable\n",
        "salud['P414$17'] = salud['P414$17'].astype(str)\n",
        "label_encoder = LabelEncoder()\n",
        "salud['P414$17'] = label_encoder.fit_transform(salud['P414$17'])\n",
        "\n",
        "# Quitamos dos categorias de la variable\n",
        "salud['P414$17'] = salud['P414$17'].astype(str)\n",
        "categorias_a_eliminar = ['0', '3']\n",
        "salud = salud[~salud['P414$17'].isin(categorias_a_eliminar)]"
      ]
    },
    {
      "cell_type": "code",
      "execution_count": 9,
      "metadata": {},
      "outputs": [
        {
          "data": {
            "text/plain": [
              "VACUNAS_COVID\n",
              "0    90708\n",
              "1    19845\n",
              "Name: count, dtype: int64"
            ]
          },
          "execution_count": 9,
          "metadata": {},
          "output_type": "execute_result"
        }
      ],
      "source": [
        "\n",
        "#*  variable dummy de \"vacunas_Covid\" (1= si se ha vacunado, 0 = caso contrario)\n",
        "cambios_etiquetas = {'2': 0, '1': 1}\n",
        "salud['VACUNAS_COVID'] = salud['P414$17'].replace(cambios_etiquetas)\n",
        "\n",
        "salud['VACUNAS_COVID'].value_counts()"
      ]
    },
    {
      "cell_type": "code",
      "execution_count": 10,
      "metadata": {},
      "outputs": [],
      "source": [
        "variables = ['AÑO', 'CONGLOME', 'VIVIENDA', 'HOGAR','CODPERSO', 'UBIGEO', 'VACUNAS_COVID']\n",
        "salud = salud[variables]\n",
        "data = data.merge(salud, how='left', on=['AÑO', 'CONGLOME', 'VIVIENDA',  'HOGAR','CODPERSO', 'UBIGEO'])"
      ]
    },
    {
      "cell_type": "code",
      "execution_count": 11,
      "metadata": {},
      "outputs": [],
      "source": [
        "\n",
        "#* Educacion del padre (1= sin educacion, 2= Primaria, 3= Secundaria, 4= Superior)\n",
        "label_encoder = LabelEncoder()\n",
        "gob['P45_1'] = label_encoder.fit_transform(gob['P45_1'])\n",
        "\n",
        "\n",
        "# Supongamos que educ es tu DataFrame\n",
        "gob['EDUCACION_PADRE'] = np.nan\n",
        "\n",
        "gob.loc[gob['P45_1'] == 1, 'EDUCACION_PADRE'] = 1\n",
        "gob.loc[gob['P45_1'].isin([2, 3]), 'EDUCACION_PADRE'] = 2\n",
        "gob.loc[gob['P45_1'].isin([4, 5]), 'EDUCACION_PADRE'] = 3\n",
        "gob.loc[gob['P45_1'].isin([6, 7, 8, 9]), 'EDUCACION_PADRE'] = 4\n",
        "\n",
        "\n",
        "#* Educacion de la madre (1= sin educacion, 2= Primaria, 3= Secundaria, 4= Superior)\n",
        "label_encoder = LabelEncoder()\n",
        "gob['P45_2'] = label_encoder.fit_transform(gob['P45_2'])\n",
        "\n",
        "\n",
        "# Supongamos que educ es tu DataFrame\n",
        "gob['EDUCACION_MADRE'] = np.nan\n",
        "\n",
        "# Asignar valores según las condiciones especificadas\n",
        "gob.loc[gob['P45_2'] == 1, 'EDUCACION_MADRE'] = 1\n",
        "gob.loc[gob['P45_2'].isin([2, 3]), 'EDUCACION_MADRE'] = 2\n",
        "gob.loc[gob['P45_2'].isin([4, 5]), 'EDUCACION_MADRE'] = 3\n",
        "gob.loc[gob['P45_2'].isin([6, 7, 8, 9]), 'EDUCACION_MADRE'] = 4\n",
        "\n",
        "\n",
        "\n",
        "variables = ['AÑO', 'CONGLOME', 'VIVIENDA', 'HOGAR','UBIGEO' ,'EDUCACION_PADRE', 'EDUCACION_MADRE']\n",
        "gob = gob[variables]\n",
        "\n",
        "data = data.merge(gob, how='left', on=['AÑO', 'CONGLOME', 'VIVIENDA', 'HOGAR', 'UBIGEO'])\n",
        "\n"
      ]
    },
    {
      "cell_type": "code",
      "execution_count": 12,
      "metadata": {},
      "outputs": [],
      "source": [
        "\n",
        "#* TAMAÑO FAMILIAR\n",
        "sumaria.rename(columns={'MIEPERHO': 'TAMAÑO_FAMILIAR'}, inplace=True)\n",
        "\n",
        "\n",
        "#* INGRESO FAMILIAR\n",
        "sumaria['INGRESO_FAMILIAR'] = sumaria['INGHOG2D'] / (sumaria['TAMAÑO_FAMILIAR'] * 12)\n",
        "\n",
        "variables = ['AÑO', 'CONGLOME', 'VIVIENDA', 'HOGAR', 'UBIGEO','INGRESO_FAMILIAR','TAMAÑO_FAMILIAR' ]\n",
        "sumaria = sumaria[variables]\n",
        "\n",
        "data = data.merge(sumaria, how='left', on=['AÑO', 'CONGLOME', 'VIVIENDA', 'HOGAR'])\n",
        "\n",
        "\n"
      ]
    },
    {
      "cell_type": "code",
      "execution_count": 13,
      "metadata": {},
      "outputs": [],
      "source": [
        "\n",
        "#*RECURSOS TECNOLOGICOS\n",
        "\n",
        "# *CELULAR\n",
        "hogar['P1142'] = hogar['P1142'].astype('str')\n",
        "hogar['P1142'] = hogar['P1142'].replace({' ': '999'})\n",
        "hogar['P1142'] = hogar['P1142'].astype('int')\n",
        "hogar['P1142'] = hogar['P1142'].replace({999: np.nan})\n",
        "hogar['P1142'] = hogar['P1142'].fillna(0)\n",
        "hogar['CELULAR'] = hogar['P1142']\n",
        "\n",
        "# *TV\n",
        "hogar['P1143'] = hogar['P1143'].astype('str')\n",
        "hogar['P1143'] = hogar['P1143'].replace({' ': '999'})\n",
        "hogar['P1143'] = hogar['P1143'].astype('int')\n",
        "hogar['P1143'] = hogar['P1143'].replace({999: np.nan})\n",
        "hogar['P1143'] = hogar['P1143'].fillna(0)\n",
        "hogar['TV'] = hogar['P1143']\n",
        "\n",
        "\n",
        "# * INTERNET\n",
        "hogar['P1144'] = hogar['P1144'].astype('str')\n",
        "hogar['P1144'] = hogar['P1144'].replace({' ': '999'})\n",
        "hogar['P1144'] = hogar['P1144'].astype('int')\n",
        "hogar['P1144'] = hogar['P1144'].replace({999: np.nan})\n",
        "hogar['P1144'] = hogar['P1144'].fillna(0)\n",
        "hogar['INTERNET'] = hogar['P1144']\n",
        "\n",
        "\n",
        "variables = ['AÑO', 'CONGLOME', 'VIVIENDA', 'HOGAR', 'INTERNET', 'TV', 'CELULAR' ]\n",
        "hogar = hogar[variables]\n",
        "\n",
        "data = data.merge(hogar,  how='left', on=['AÑO', 'CONGLOME', 'VIVIENDA', 'HOGAR'])"
      ]
    },
    {
      "cell_type": "code",
      "execution_count": 14,
      "metadata": {},
      "outputs": [],
      "source": [
        "data=data.dropna()"
      ]
    },
    {
      "cell_type": "code",
      "execution_count": 15,
      "metadata": {},
      "outputs": [
        {
          "name": "stdout",
          "output_type": "stream",
          "text": [
            "<class 'pandas.core.frame.DataFrame'>\n",
            "Index: 18514 entries, 0 to 19371\n",
            "Data columns (total 23 columns):\n",
            " #   Column             Non-Null Count  Dtype  \n",
            "---  ------             --------------  -----  \n",
            " 0   AÑO                18514 non-null  int64  \n",
            " 1   CONGLOME           18514 non-null  int64  \n",
            " 2   VIVIENDA           18514 non-null  int64  \n",
            " 3   HOGAR              18514 non-null  int64  \n",
            " 4   CODPERSO           18514 non-null  int64  \n",
            " 5   UBIGEO_x           18514 non-null  int64  \n",
            " 6   DESERCION_ESCOLAR  18514 non-null  int32  \n",
            " 7   SEXO               18514 non-null  int64  \n",
            " 8   EDAD               18514 non-null  int64  \n",
            " 9   AREA_GEOGRAFICA    18514 non-null  int64  \n",
            " 10  LENGUA_MATERNA     18514 non-null  float64\n",
            " 11  TIPO_DE_COLEGIO    18514 non-null  int64  \n",
            " 12  PROGRAMA           18514 non-null  int32  \n",
            " 13  SITUACION_LABORAL  18514 non-null  float64\n",
            " 14  VACUNAS_COVID      18514 non-null  float64\n",
            " 15  EDUCACION_PADRE    18514 non-null  float64\n",
            " 16  EDUCACION_MADRE    18514 non-null  float64\n",
            " 17  UBIGEO_y           18514 non-null  int64  \n",
            " 18  INGRESO_FAMILIAR   18514 non-null  float64\n",
            " 19  TAMAÑO_FAMILIAR    18514 non-null  int64  \n",
            " 20  INTERNET           18514 non-null  float64\n",
            " 21  TV                 18514 non-null  float64\n",
            " 22  CELULAR            18514 non-null  float64\n",
            "dtypes: float64(9), int32(2), int64(12)\n",
            "memory usage: 3.2 MB\n"
          ]
        }
      ],
      "source": [
        "data.info()"
      ]
    },
    {
      "cell_type": "code",
      "execution_count": 16,
      "metadata": {},
      "outputs": [],
      "source": [
        "data['LENGUA_MATERNA'] = data['LENGUA_MATERNA'].astype(int)\n",
        "data['SITUACION_LABORAL'] = data['SITUACION_LABORAL'].astype(int)\n",
        "data['EDUCACION_PADRE'] = data['EDUCACION_PADRE'].astype(int)\n",
        "data['EDUCACION_MADRE'] = data['EDUCACION_MADRE'].astype(int)\n",
        "data['INTERNET'] = data['INTERNET'].astype(int)\n",
        "data['TV'] = data['TV'].astype(int)\n",
        "data['CELULAR'] = data['CELULAR'].astype(int)\n",
        "data['VACUNAS_COVID'] = data['VACUNAS_COVID'].astype(int)\n"
      ]
    },
    {
      "cell_type": "code",
      "execution_count": 17,
      "metadata": {},
      "outputs": [],
      "source": [
        "data = data.rename(columns=str.lower)\n"
      ]
    },
    {
      "cell_type": "code",
      "execution_count": 18,
      "metadata": {},
      "outputs": [
        {
          "data": {
            "text/html": [
              "<div>\n",
              "<style scoped>\n",
              "    .dataframe tbody tr th:only-of-type {\n",
              "        vertical-align: middle;\n",
              "    }\n",
              "\n",
              "    .dataframe tbody tr th {\n",
              "        vertical-align: top;\n",
              "    }\n",
              "\n",
              "    .dataframe thead th {\n",
              "        text-align: right;\n",
              "    }\n",
              "</style>\n",
              "<table border=\"1\" class=\"dataframe\">\n",
              "  <thead>\n",
              "    <tr style=\"text-align: right;\">\n",
              "      <th></th>\n",
              "      <th>año</th>\n",
              "      <th>conglome</th>\n",
              "      <th>vivienda</th>\n",
              "      <th>hogar</th>\n",
              "      <th>codperso</th>\n",
              "      <th>ubigeo_x</th>\n",
              "      <th>desercion_escolar</th>\n",
              "      <th>sexo</th>\n",
              "      <th>edad</th>\n",
              "      <th>area_geografica</th>\n",
              "      <th>...</th>\n",
              "      <th>situacion_laboral</th>\n",
              "      <th>vacunas_covid</th>\n",
              "      <th>educacion_padre</th>\n",
              "      <th>educacion_madre</th>\n",
              "      <th>ubigeo_y</th>\n",
              "      <th>ingreso_familiar</th>\n",
              "      <th>tamaño_familiar</th>\n",
              "      <th>internet</th>\n",
              "      <th>tv</th>\n",
              "      <th>celular</th>\n",
              "    </tr>\n",
              "  </thead>\n",
              "  <tbody>\n",
              "    <tr>\n",
              "      <th>0</th>\n",
              "      <td>2021</td>\n",
              "      <td>5009</td>\n",
              "      <td>98</td>\n",
              "      <td>11</td>\n",
              "      <td>3</td>\n",
              "      <td>10101</td>\n",
              "      <td>1</td>\n",
              "      <td>0</td>\n",
              "      <td>17</td>\n",
              "      <td>1</td>\n",
              "      <td>...</td>\n",
              "      <td>1</td>\n",
              "      <td>0</td>\n",
              "      <td>4</td>\n",
              "      <td>3</td>\n",
              "      <td>10101</td>\n",
              "      <td>1013.349609</td>\n",
              "      <td>4</td>\n",
              "      <td>1</td>\n",
              "      <td>1</td>\n",
              "      <td>1</td>\n",
              "    </tr>\n",
              "    <tr>\n",
              "      <th>1</th>\n",
              "      <td>2021</td>\n",
              "      <td>5009</td>\n",
              "      <td>98</td>\n",
              "      <td>11</td>\n",
              "      <td>4</td>\n",
              "      <td>10101</td>\n",
              "      <td>1</td>\n",
              "      <td>1</td>\n",
              "      <td>7</td>\n",
              "      <td>1</td>\n",
              "      <td>...</td>\n",
              "      <td>0</td>\n",
              "      <td>0</td>\n",
              "      <td>4</td>\n",
              "      <td>3</td>\n",
              "      <td>10101</td>\n",
              "      <td>1013.349609</td>\n",
              "      <td>4</td>\n",
              "      <td>1</td>\n",
              "      <td>1</td>\n",
              "      <td>1</td>\n",
              "    </tr>\n",
              "    <tr>\n",
              "      <th>2</th>\n",
              "      <td>2021</td>\n",
              "      <td>5019</td>\n",
              "      <td>85</td>\n",
              "      <td>11</td>\n",
              "      <td>3</td>\n",
              "      <td>10101</td>\n",
              "      <td>0</td>\n",
              "      <td>0</td>\n",
              "      <td>8</td>\n",
              "      <td>1</td>\n",
              "      <td>...</td>\n",
              "      <td>0</td>\n",
              "      <td>0</td>\n",
              "      <td>2</td>\n",
              "      <td>2</td>\n",
              "      <td>10101</td>\n",
              "      <td>670.280816</td>\n",
              "      <td>3</td>\n",
              "      <td>0</td>\n",
              "      <td>1</td>\n",
              "      <td>1</td>\n",
              "    </tr>\n",
              "    <tr>\n",
              "      <th>3</th>\n",
              "      <td>2021</td>\n",
              "      <td>5019</td>\n",
              "      <td>114</td>\n",
              "      <td>11</td>\n",
              "      <td>4</td>\n",
              "      <td>10101</td>\n",
              "      <td>0</td>\n",
              "      <td>1</td>\n",
              "      <td>9</td>\n",
              "      <td>1</td>\n",
              "      <td>...</td>\n",
              "      <td>0</td>\n",
              "      <td>0</td>\n",
              "      <td>3</td>\n",
              "      <td>3</td>\n",
              "      <td>10101</td>\n",
              "      <td>1056.816569</td>\n",
              "      <td>4</td>\n",
              "      <td>1</td>\n",
              "      <td>1</td>\n",
              "      <td>1</td>\n",
              "    </tr>\n",
              "    <tr>\n",
              "      <th>4</th>\n",
              "      <td>2021</td>\n",
              "      <td>5020</td>\n",
              "      <td>102</td>\n",
              "      <td>11</td>\n",
              "      <td>4</td>\n",
              "      <td>10101</td>\n",
              "      <td>0</td>\n",
              "      <td>0</td>\n",
              "      <td>11</td>\n",
              "      <td>1</td>\n",
              "      <td>...</td>\n",
              "      <td>0</td>\n",
              "      <td>0</td>\n",
              "      <td>1</td>\n",
              "      <td>1</td>\n",
              "      <td>10101</td>\n",
              "      <td>1556.165148</td>\n",
              "      <td>6</td>\n",
              "      <td>1</td>\n",
              "      <td>1</td>\n",
              "      <td>1</td>\n",
              "    </tr>\n",
              "  </tbody>\n",
              "</table>\n",
              "<p>5 rows × 23 columns</p>\n",
              "</div>"
            ],
            "text/plain": [
              "    año  conglome  vivienda  hogar  codperso  ubigeo_x  desercion_escolar  \\\n",
              "0  2021      5009        98     11         3     10101                  1   \n",
              "1  2021      5009        98     11         4     10101                  1   \n",
              "2  2021      5019        85     11         3     10101                  0   \n",
              "3  2021      5019       114     11         4     10101                  0   \n",
              "4  2021      5020       102     11         4     10101                  0   \n",
              "\n",
              "   sexo  edad  area_geografica  ...  situacion_laboral  vacunas_covid  \\\n",
              "0     0    17                1  ...                  1              0   \n",
              "1     1     7                1  ...                  0              0   \n",
              "2     0     8                1  ...                  0              0   \n",
              "3     1     9                1  ...                  0              0   \n",
              "4     0    11                1  ...                  0              0   \n",
              "\n",
              "   educacion_padre  educacion_madre  ubigeo_y  ingreso_familiar  \\\n",
              "0                4                3     10101       1013.349609   \n",
              "1                4                3     10101       1013.349609   \n",
              "2                2                2     10101        670.280816   \n",
              "3                3                3     10101       1056.816569   \n",
              "4                1                1     10101       1556.165148   \n",
              "\n",
              "   tamaño_familiar  internet  tv  celular  \n",
              "0                4         1   1        1  \n",
              "1                4         1   1        1  \n",
              "2                3         0   1        1  \n",
              "3                4         1   1        1  \n",
              "4                6         1   1        1  \n",
              "\n",
              "[5 rows x 23 columns]"
            ]
          },
          "execution_count": 18,
          "metadata": {},
          "output_type": "execute_result"
        }
      ],
      "source": [
        "data.head()"
      ]
    },
    {
      "cell_type": "code",
      "execution_count": 19,
      "metadata": {},
      "outputs": [],
      "source": [
        "data.to_csv(\"../data/final/DATA1.csv\")"
      ]
    }
  ],
  "metadata": {
    "colab": {
      "provenance": []
    },
    "kernelspec": {
      "display_name": "Python 3",
      "name": "python3"
    },
    "language_info": {
      "codemirror_mode": {
        "name": "ipython",
        "version": 3
      },
      "file_extension": ".py",
      "mimetype": "text/x-python",
      "name": "python",
      "nbconvert_exporter": "python",
      "pygments_lexer": "ipython3",
      "version": "3.9.13"
    }
  },
  "nbformat": 4,
  "nbformat_minor": 0
}
